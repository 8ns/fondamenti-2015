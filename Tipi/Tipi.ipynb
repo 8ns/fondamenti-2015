{
 "cells": [
  {
   "cell_type": "markdown",
   "metadata": {},
   "source": [
    "Fino ad ora, abbiamo genericamente parlato di \"valori\". Esempi di valori sono il numero `1`, il numero `2`, la funzione `somma` la lista `[1,2,3]`, etc. Le nostre funzioni ricevono dei valori come argomenti, e producono dei valori in uscita.\n",
    "E va bene.\n",
    "Però, facciamoci caso: i valori sono di *tipo* diverso. Per ora, considera questa affermazione solo intuitivamente. Un *numero* è una cosa diversa da una *lista*, che è diversa da una *funzione*.\n",
    "Nessuna obiezione, a livello viscerale e/o epidermico. Ora però usiamo la corteccia frontale: che cos'è il *tipo* di un valore? Come possiamo definirlo?\n",
    "\n",
    "Un *tipo* di dato è definito da due cose:\n",
    "1. l'insieme di valori che un dato di quel tipo può assumere. Esempio: i numeri interi possono assumere i valori 0, 1, -1, 2, -2 etc.\n",
    "2. le operazioni che posso fare su un dato di quel tipo. Esempio, nel caso di un numero: possono sommare due numeri, sottrarli, confrontarli per vedere qual è il maggiore etc"
   ]
  },
  {
   "cell_type": "markdown",
   "metadata": {},
   "source": [
    "I tipi di dato che abbiamo visto fino ad ora sono:\n",
    "\n",
    "- i *numeri interi* (es: 1, 2, 10, -100)\n",
    "- i *numeri razionali* (o in virgola mobile, o `float`): 1.0, 2.1, 3.4 \n",
    "- le *liste*: [], [1], [2,3,[4,5],2.0]"
   ]
  },
  {
   "cell_type": "markdown",
   "metadata": {},
   "source": [
    "Le operazioni che possiamo fare con i vari tipi sono:\n",
    "\n",
    "- numeri: sommare, confrontare, etc\n",
    "- liste: ottenere la lunghezza (len(l)), accedere all'elemento i-simo"
   ]
  },
  {
   "cell_type": "markdown",
   "metadata": {},
   "source": [
    "[parlare ddei literals, ovvero delle rappresentazioni testuali dei dati]"
   ]
  },
  {
   "cell_type": "markdown",
   "metadata": {},
   "source": [
    "Un nuovo interessante tipo di dato sono le *stringhe*. Ecco qualche esempio di *string literal*:"
   ]
  },
  {
   "cell_type": "markdown",
   "metadata": {},
   "source": [
    "`\"hello world\"`, `\"nel mezzo del cammin di nostra vita etc\"`, `\"ceci n'est pas une string\"`"
   ]
  },
  {
   "cell_type": "markdown",
   "metadata": {},
   "source": [
    "E cosa possiamo fare con le stringhe?\n",
    "Beh, possiamo sapere quanto è lunga:"
   ]
  },
  {
   "cell_type": "code",
   "execution_count": 1,
   "metadata": {
    "collapsed": false
   },
   "outputs": [
    {
     "data": {
      "text/plain": [
       "11"
      ]
     },
     "execution_count": 1,
     "metadata": {},
     "output_type": "execute_result"
    }
   ],
   "source": [
    "len(\"hello world\")"
   ]
  },
  {
   "cell_type": "markdown",
   "metadata": {},
   "source": [
    "Possiamo accedere ad un elemento:"
   ]
  },
  {
   "cell_type": "code",
   "execution_count": 2,
   "metadata": {
    "collapsed": false
   },
   "outputs": [
    {
     "data": {
      "text/plain": [
       "'h'"
      ]
     },
     "execution_count": 2,
     "metadata": {},
     "output_type": "execute_result"
    }
   ],
   "source": [
    "s = \"hello world\"\n",
    "s[0]"
   ]
  },
  {
   "cell_type": "markdown",
   "metadata": {},
   "source": [
    "L'elemento i-simo di una stringa è l'i-simo carattere di una stringa. Ma di che *tipo* è un carattere? In Python, è una stringa di lunghezza 1.\n",
    "In Python c'è un operatore interessante, `type`, che ci dice di che tipo è un valore:"
   ]
  },
  {
   "cell_type": "code",
   "execution_count": 3,
   "metadata": {
    "collapsed": false
   },
   "outputs": [
    {
     "data": {
      "text/plain": [
       "str"
      ]
     },
     "execution_count": 3,
     "metadata": {},
     "output_type": "execute_result"
    }
   ],
   "source": [
    "type(s[0])"
   ]
  },
  {
   "cell_type": "markdown",
   "metadata": {},
   "source": [
    "Tra le varie cose che magari ci piacerebbe fare con le stringhe, c'è questa: data una stringa, ottenere una lista di stringhe, che contenga le parole nel testo rappresentato dalla stringa. &Egrave; più facile a farsi che a dirsi!"
   ]
  },
  {
   "cell_type": "markdown",
   "metadata": {},
   "source": [
    "Ecco un esempio di ciò che intendo con \"ottenere la lista di parole\":\n",
    "\n",
    "`\"ciao a tutti\"` &rarr; `[\"ciao\", \"a\", \"tutti\"]`"
   ]
  },
  {
   "cell_type": "markdown",
   "metadata": {},
   "source": [
    "Ebbene, una funzione del genere esiste, si chiama `split`, ed è una funzione *built-in* (cioè, è fornita di base insieme al linguaggio). Solo che questa funzione si invoca in modo speciale:"
   ]
  },
  {
   "cell_type": "code",
   "execution_count": 4,
   "metadata": {
    "collapsed": false
   },
   "outputs": [
    {
     "data": {
      "text/plain": [
       "['ciao', 'a', 'tutti']"
      ]
     },
     "execution_count": 4,
     "metadata": {},
     "output_type": "execute_result"
    }
   ],
   "source": [
    "\"ciao a tutti\".split()"
   ]
  },
  {
   "cell_type": "markdown",
   "metadata": {},
   "source": [
    "Alcune funzioni sono definite *insieme* ai tipi, e vengono invocate in modo sintatticamente un po' diverso:\n",
    "\n",
    "`<valore>.<nome_funzione>(<parametri>)`\n",
    "\n",
    "Le funzioni, quando invocate in questo modo, vengono chiamate *metodi*. Visto che un metodo ha sempre un argomento implicito, che è il valore sul quale è chiamato, si dice che quel valore *ha* quel metodo, come se fosse una sua *proprietà*... Torneremo su questa bizzarra terminologia."
   ]
  },
  {
   "cell_type": "markdown",
   "metadata": {},
   "source": [
    "Cos'altro posso fare con le stringhe? Posso testarne l'uguaglianza:"
   ]
  },
  {
   "cell_type": "code",
   "execution_count": 5,
   "metadata": {
    "collapsed": false
   },
   "outputs": [
    {
     "data": {
      "text/plain": [
       "True"
      ]
     },
     "execution_count": 5,
     "metadata": {},
     "output_type": "execute_result"
    }
   ],
   "source": [
    "\"ciao\" == \"ciao\""
   ]
  },
  {
   "cell_type": "markdown",
   "metadata": {},
   "source": [
    "Visto che le stringhe sono sequenze, posso anche concatenarle:"
   ]
  },
  {
   "cell_type": "code",
   "execution_count": 6,
   "metadata": {
    "collapsed": false
   },
   "outputs": [
    {
     "data": {
      "text/plain": [
       "'quareidfaciam'"
      ]
     },
     "execution_count": 6,
     "metadata": {},
     "output_type": "execute_result"
    }
   ],
   "source": [
    "\"quare\" + \"id\" + \"faciam\""
   ]
  },
  {
   "cell_type": "code",
   "execution_count": 7,
   "metadata": {
    "collapsed": false
   },
   "outputs": [
    {
     "data": {
      "text/plain": [
       "True"
      ]
     },
     "execution_count": 7,
     "metadata": {},
     "output_type": "execute_result"
    }
   ],
   "source": [
    "\"quare\" + \" \" + \"id\" + \" \" + \"faciam\" == \"quare id faciam\""
   ]
  },
  {
   "cell_type": "markdown",
   "metadata": {},
   "source": [
    "**Esercizio**: scrivi una funzione `cerca(parola, testo)` che dica se `parola` è contenuta in `testo` (si immagini che `testo` sia composto da più parole separate da spazio)."
   ]
  },
  {
   "cell_type": "markdown",
   "metadata": {},
   "source": [
    "**Soluzione**: ci sono molti modi per risolvere questo problema. Uno di questi è spezzare `testo` in parole con `split`, e quindi fare la solita ricerca di un elemento in una sequenza. Questa volta, proviamo ad implementare la ricerca iterativamente:"
   ]
  },
  {
   "cell_type": "code",
   "execution_count": 8,
   "metadata": {
    "collapsed": true
   },
   "outputs": [],
   "source": [
    "def cerca(parola, testo):\n",
    "    parole = testo.split()\n",
    "    i = 0\n",
    "    l = len(parole)\n",
    "    while i < l:\n",
    "        if parola == parole[i]:\n",
    "            return True\n",
    "        i = i + 1\n",
    "    return False"
   ]
  },
  {
   "cell_type": "code",
   "execution_count": 9,
   "metadata": {
    "collapsed": false
   },
   "outputs": [
    {
     "data": {
      "text/plain": [
       "True"
      ]
     },
     "execution_count": 9,
     "metadata": {},
     "output_type": "execute_result"
    }
   ],
   "source": [
    "cerca(\"quare\", \"quare id faciam\")"
   ]
  },
  {
   "cell_type": "code",
   "execution_count": 10,
   "metadata": {
    "collapsed": false
   },
   "outputs": [
    {
     "data": {
      "text/plain": [
       "True"
      ]
     },
     "execution_count": 10,
     "metadata": {},
     "output_type": "execute_result"
    }
   ],
   "source": [
    "cerca(\"faciam\", \"quare id faciam\")"
   ]
  },
  {
   "cell_type": "code",
   "execution_count": 11,
   "metadata": {
    "collapsed": false
   },
   "outputs": [
    {
     "data": {
      "text/plain": [
       "False"
      ]
     },
     "execution_count": 11,
     "metadata": {},
     "output_type": "execute_result"
    }
   ],
   "source": [
    "cerca(\"requiris\", \"quare id faciam\")"
   ]
  },
  {
   "cell_type": "markdown",
   "metadata": {},
   "source": [
    "**Esercizio**: Scrivi una funzione `conta(parola, testo)` che conti le occorrenze di `parola` all'interno di `testo`."
   ]
  }
 ],
 "metadata": {
  "kernelspec": {
   "display_name": "Python 3",
   "language": "python",
   "name": "python3"
  },
  "language_info": {
   "codemirror_mode": {
    "name": "ipython",
    "version": 3
   },
   "file_extension": ".py",
   "mimetype": "text/x-python",
   "name": "python",
   "nbconvert_exporter": "python",
   "pygments_lexer": "ipython3",
   "version": "3.5.0"
  }
 },
 "nbformat": 4,
 "nbformat_minor": 0
}
