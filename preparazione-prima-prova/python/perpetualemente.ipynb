{
 "cells": [
  {
   "cell_type": "code",
   "execution_count": 5,
   "metadata": {
    "collapsed": true
   },
   "outputs": [],
   "source": [
    "str = \"tanto va la gatta al lardo che ci lascia lo zampino\""
   ]
  },
  {
   "cell_type": "code",
   "execution_count": 7,
   "metadata": {
    "collapsed": false
   },
   "outputs": [],
   "source": [
    "ws = str.split()"
   ]
  },
  {
   "cell_type": "code",
   "execution_count": 8,
   "metadata": {
    "collapsed": false
   },
   "outputs": [
    {
     "name": "stdout",
     "output_type": "stream",
     "text": [
      "['tanto', 'va', 'la', 'gatta', 'al', 'lardo', 'che', 'ci', 'lascia', 'lo', 'zampino']\n"
     ]
    }
   ],
   "source": [
    "print(ws)"
   ]
  },
  {
   "cell_type": "code",
   "execution_count": 9,
   "metadata": {
    "collapsed": true
   },
   "outputs": [],
   "source": [
    "w = ws[0]"
   ]
  },
  {
   "cell_type": "code",
   "execution_count": 10,
   "metadata": {
    "collapsed": false
   },
   "outputs": [
    {
     "data": {
      "text/plain": [
       "'tanto'"
      ]
     },
     "execution_count": 10,
     "metadata": {},
     "output_type": "execute_result"
    }
   ],
   "source": [
    "w"
   ]
  },
  {
   "cell_type": "code",
   "execution_count": 11,
   "metadata": {
    "collapsed": true
   },
   "outputs": [],
   "source": [
    "cs = set(w)"
   ]
  },
  {
   "cell_type": "code",
   "execution_count": 12,
   "metadata": {
    "collapsed": false
   },
   "outputs": [
    {
     "data": {
      "text/plain": [
       "{'a', 'n', 'o', 't'}"
      ]
     },
     "execution_count": 12,
     "metadata": {},
     "output_type": "execute_result"
    }
   ],
   "source": [
    "cs"
   ]
  },
  {
   "cell_type": "code",
   "execution_count": 14,
   "metadata": {
    "collapsed": false
   },
   "outputs": [
    {
     "data": {
      "text/plain": [
       "['a']"
      ]
     },
     "execution_count": 14,
     "metadata": {},
     "output_type": "execute_result"
    }
   ],
   "source": [
    "[x for x in w if x == 'a']"
   ]
  },
  {
   "cell_type": "code",
   "execution_count": 15,
   "metadata": {
    "collapsed": false
   },
   "outputs": [
    {
     "data": {
      "text/plain": [
       "['t', 't']"
      ]
     },
     "execution_count": 15,
     "metadata": {},
     "output_type": "execute_result"
    }
   ],
   "source": [
    "[x for x in w if x == 't']"
   ]
  },
  {
   "cell_type": "code",
   "execution_count": 16,
   "metadata": {
    "collapsed": false
   },
   "outputs": [
    {
     "data": {
      "text/plain": [
       "1"
      ]
     },
     "execution_count": 16,
     "metadata": {},
     "output_type": "execute_result"
    }
   ],
   "source": [
    "len([x for x in w if x == 'o'])"
   ]
  },
  {
   "cell_type": "code",
   "execution_count": 17,
   "metadata": {
    "collapsed": true
   },
   "outputs": [],
   "source": [
    "def cc(w, c):\n",
    "    return len([x for x in w if x == c])"
   ]
  },
  {
   "cell_type": "code",
   "execution_count": 18,
   "metadata": {
    "collapsed": false
   },
   "outputs": [
    {
     "data": {
      "text/plain": [
       "['tanto',\n",
       " 'va',\n",
       " 'la',\n",
       " 'gatta',\n",
       " 'al',\n",
       " 'lardo',\n",
       " 'che',\n",
       " 'ci',\n",
       " 'lascia',\n",
       " 'lo',\n",
       " 'zampino']"
      ]
     },
     "execution_count": 18,
     "metadata": {},
     "output_type": "execute_result"
    }
   ],
   "source": [
    "ws"
   ]
  },
  {
   "cell_type": "code",
   "execution_count": 19,
   "metadata": {
    "collapsed": false
   },
   "outputs": [
    {
     "data": {
      "text/plain": [
       "2"
      ]
     },
     "execution_count": 19,
     "metadata": {},
     "output_type": "execute_result"
    }
   ],
   "source": [
    "cc(ws[3], 't')"
   ]
  },
  {
   "cell_type": "code",
   "execution_count": 20,
   "metadata": {
    "collapsed": true
   },
   "outputs": [],
   "source": [
    "w = ws[3]"
   ]
  },
  {
   "cell_type": "code",
   "execution_count": 22,
   "metadata": {
    "collapsed": false
   },
   "outputs": [],
   "source": [
    "fc = []\n",
    "for c in set(w):\n",
    "    fc = fc + [(c, cc(w, c))]"
   ]
  },
  {
   "cell_type": "code",
   "execution_count": 23,
   "metadata": {
    "collapsed": false
   },
   "outputs": [
    {
     "data": {
      "text/plain": [
       "[('a', 2), ('t', 2), ('g', 1)]"
      ]
     },
     "execution_count": 23,
     "metadata": {},
     "output_type": "execute_result"
    }
   ],
   "source": [
    "fc"
   ]
  },
  {
   "cell_type": "code",
   "execution_count": 24,
   "metadata": {
    "collapsed": true
   },
   "outputs": [],
   "source": [
    "def ccs(w):\n",
    "    fc = []\n",
    "    for c in set(w):\n",
    "        fc = fc + [(c, cc(w, c))]\n",
    "    return fc"
   ]
  },
  {
   "cell_type": "code",
   "execution_count": 26,
   "metadata": {
    "collapsed": false
   },
   "outputs": [
    {
     "data": {
      "text/plain": [
       "[('a', 1), ('t', 2), ('n', 1), ('o', 1)]"
      ]
     },
     "execution_count": 26,
     "metadata": {},
     "output_type": "execute_result"
    }
   ],
   "source": [
    "ccs(ws[0])"
   ]
  },
  {
   "cell_type": "code",
   "execution_count": 27,
   "metadata": {
    "collapsed": false
   },
   "outputs": [
    {
     "data": {
      "text/plain": [
       "[1, 2, 3, 4, 6]"
      ]
     },
     "execution_count": 27,
     "metadata": {},
     "output_type": "execute_result"
    }
   ],
   "source": [
    "sorted([4,6,1,2,3])"
   ]
  },
  {
   "cell_type": "code",
   "execution_count": 28,
   "metadata": {
    "collapsed": false
   },
   "outputs": [
    {
     "data": {
      "text/plain": [
       "['a', 'ciao', 'tutti']"
      ]
     },
     "execution_count": 28,
     "metadata": {},
     "output_type": "execute_result"
    }
   ],
   "source": [
    "sorted([\"ciao\", \"a\", \"tutti\"])"
   ]
  },
  {
   "cell_type": "code",
   "execution_count": 29,
   "metadata": {
    "collapsed": true
   },
   "outputs": [],
   "source": [
    "t1 = (1,2)\n",
    "t2 = (2,1)"
   ]
  },
  {
   "cell_type": "code",
   "execution_count": 30,
   "metadata": {
    "collapsed": false
   },
   "outputs": [
    {
     "data": {
      "text/plain": [
       "True"
      ]
     },
     "execution_count": 30,
     "metadata": {},
     "output_type": "execute_result"
    }
   ],
   "source": [
    "t1 < t2"
   ]
  },
  {
   "cell_type": "code",
   "execution_count": 31,
   "metadata": {
    "collapsed": false
   },
   "outputs": [
    {
     "data": {
      "text/plain": [
       "False"
      ]
     },
     "execution_count": 31,
     "metadata": {},
     "output_type": "execute_result"
    }
   ],
   "source": [
    "t1 > t2"
   ]
  },
  {
   "cell_type": "code",
   "execution_count": 33,
   "metadata": {
    "collapsed": true
   },
   "outputs": [],
   "source": [
    "l = [(2, \"a\"), (1, \"ciao\")]"
   ]
  },
  {
   "cell_type": "code",
   "execution_count": 34,
   "metadata": {
    "collapsed": false
   },
   "outputs": [
    {
     "data": {
      "text/plain": [
       "[(1, 'ciao'), (2, 'a')]"
      ]
     },
     "execution_count": 34,
     "metadata": {},
     "output_type": "execute_result"
    }
   ],
   "source": [
    "sorted(l)"
   ]
  },
  {
   "cell_type": "code",
   "execution_count": 35,
   "metadata": {
    "collapsed": false
   },
   "outputs": [
    {
     "data": {
      "text/plain": [
       "[[('a', 1), ('t', 2), ('n', 1), ('o', 1)],\n",
       " [('a', 1), ('v', 1)],\n",
       " [('a', 1), ('l', 1)],\n",
       " [('a', 2), ('t', 2), ('g', 1)],\n",
       " [('a', 1), ('l', 1)],\n",
       " [('a', 1), ('d', 1), ('o', 1), ('r', 1), ('l', 1)],\n",
       " [('e', 1), ('c', 1), ('h', 1)],\n",
       " [('c', 1), ('i', 1)],\n",
       " [('a', 2), ('c', 1), ('s', 1), ('i', 1), ('l', 1)],\n",
       " [('o', 1), ('l', 1)],\n",
       " [('p', 1), ('a', 1), ('i', 1), ('m', 1), ('n', 1), ('z', 1), ('o', 1)]]"
      ]
     },
     "execution_count": 35,
     "metadata": {},
     "output_type": "execute_result"
    }
   ],
   "source": [
    "[ccs(w) for w in ws]"
   ]
  },
  {
   "cell_type": "code",
   "execution_count": 36,
   "metadata": {
    "collapsed": false
   },
   "outputs": [
    {
     "data": {
      "text/plain": [
       "[[('a', 1), ('n', 1), ('o', 1), ('t', 2)],\n",
       " [('a', 1), ('v', 1)],\n",
       " [('a', 1), ('l', 1)],\n",
       " [('a', 2), ('g', 1), ('t', 2)],\n",
       " [('a', 1), ('l', 1)],\n",
       " [('a', 1), ('d', 1), ('l', 1), ('o', 1), ('r', 1)],\n",
       " [('c', 1), ('e', 1), ('h', 1)],\n",
       " [('c', 1), ('i', 1)],\n",
       " [('a', 2), ('c', 1), ('i', 1), ('l', 1), ('s', 1)],\n",
       " [('l', 1), ('o', 1)],\n",
       " [('a', 1), ('i', 1), ('m', 1), ('n', 1), ('o', 1), ('p', 1), ('z', 1)]]"
      ]
     },
     "execution_count": 36,
     "metadata": {},
     "output_type": "execute_result"
    }
   ],
   "source": [
    "[sorted(ccs(w)) for w in ws]"
   ]
  },
  {
   "cell_type": "code",
   "execution_count": 37,
   "metadata": {
    "collapsed": false
   },
   "outputs": [
    {
     "data": {
      "text/plain": [
       "[[(1, 'a'), (2, 't'), (1, 'n'), (1, 'o')],\n",
       " [(1, 'a'), (1, 'v')],\n",
       " [(1, 'a'), (1, 'l')],\n",
       " [(2, 'a'), (2, 't'), (1, 'g')],\n",
       " [(1, 'a'), (1, 'l')],\n",
       " [(1, 'a'), (1, 'd'), (1, 'o'), (1, 'r'), (1, 'l')],\n",
       " [(1, 'e'), (1, 'c'), (1, 'h')],\n",
       " [(1, 'c'), (1, 'i')],\n",
       " [(2, 'a'), (1, 'c'), (1, 's'), (1, 'i'), (1, 'l')],\n",
       " [(1, 'o'), (1, 'l')],\n",
       " [(1, 'p'), (1, 'a'), (1, 'i'), (1, 'm'), (1, 'n'), (1, 'z'), (1, 'o')]]"
      ]
     },
     "execution_count": 37,
     "metadata": {},
     "output_type": "execute_result"
    }
   ],
   "source": [
    "[[(x[1],x[0]) for x in ccs(w)] for w in ws]"
   ]
  },
  {
   "cell_type": "code",
   "execution_count": 39,
   "metadata": {
    "collapsed": false
   },
   "outputs": [],
   "source": [
    "v = [sorted([(x[1],x[0]) for x in ccs(w)]) for w in ws]"
   ]
  },
  {
   "cell_type": "code",
   "execution_count": 43,
   "metadata": {
    "collapsed": false
   },
   "outputs": [
    {
     "data": {
      "text/plain": [
       "[(2, 't'),\n",
       " (1, 'v'),\n",
       " (1, 'l'),\n",
       " (2, 't'),\n",
       " (1, 'l'),\n",
       " (1, 'r'),\n",
       " (1, 'h'),\n",
       " (1, 'i'),\n",
       " (2, 'a'),\n",
       " (1, 'o'),\n",
       " (1, 'z')]"
      ]
     },
     "execution_count": 43,
     "metadata": {},
     "output_type": "execute_result"
    }
   ],
   "source": [
    "[sorted([(x[1],x[0]) for x in ccs(w)])[-1] for w in ws]"
   ]
  },
  {
   "cell_type": "code",
   "execution_count": 45,
   "metadata": {
    "collapsed": false
   },
   "outputs": [],
   "source": [
    "def fboh(ws):\n",
    "    return sorted([sorted([(x[1],x[0]) for x in ccs(w)])[-1] for w in ws])[-1]"
   ]
  },
  {
   "cell_type": "code",
   "execution_count": 46,
   "metadata": {
    "collapsed": true
   },
   "outputs": [],
   "source": [
    "prb = \"tra il dire e il fare c'è di mezzo il mare\""
   ]
  },
  {
   "cell_type": "code",
   "execution_count": 47,
   "metadata": {
    "collapsed": true
   },
   "outputs": [],
   "source": [
    "from time import sleep"
   ]
  },
  {
   "cell_type": "code",
   "execution_count": 48,
   "metadata": {
    "collapsed": false
   },
   "outputs": [
    {
     "data": {
      "text/plain": [
       "(2, 'z')"
      ]
     },
     "execution_count": 48,
     "metadata": {},
     "output_type": "execute_result"
    }
   ],
   "source": [
    "fboh(prb.split())"
   ]
  },
  {
   "cell_type": "code",
   "execution_count": 55,
   "metadata": {
    "collapsed": false
   },
   "outputs": [
    {
     "name": "stdout",
     "output_type": "stream",
     "text": [
      "Ripasso stringhe e liste.ipynb divina_commedia.txt\r\n",
      "Untitled.ipynb                 prova\r\n"
     ]
    }
   ],
   "source": []
  },
  {
   "cell_type": "code",
   "execution_count": 52,
   "metadata": {
    "collapsed": false
   },
   "outputs": [
    {
     "name": "stdout",
     "output_type": "stream",
     "text": [
      "Ripasso stringhe e liste.ipynb  divina_commedia.txt\r\n",
      "Untitled.ipynb                  prova\r\n"
     ]
    }
   ],
   "source": [
    "a = %ls"
   ]
  },
  {
   "cell_type": "code",
   "execution_count": 53,
   "metadata": {
    "collapsed": true
   },
   "outputs": [],
   "source": [
    "a"
   ]
  },
  {
   "cell_type": "code",
   "execution_count": 58,
   "metadata": {
    "collapsed": false
   },
   "outputs": [],
   "source": [
    "fh = open(\"divina_commedia.txt\",encoding=\"latin1\").read()"
   ]
  },
  {
   "cell_type": "code",
   "execution_count": 72,
   "metadata": {
    "collapsed": false
   },
   "outputs": [
    {
     "data": {
      "text/plain": [
       "['a',\n",
       " ' ',\n",
       " 'r',\n",
       " 'i',\n",
       " 'm',\n",
       " 'i',\n",
       " 'r',\n",
       " 'a',\n",
       " 'r',\n",
       " ' ',\n",
       " 'l',\n",
       " 'o',\n",
       " ' ',\n",
       " 'p',\n",
       " 'a',\n",
       " 's',\n",
       " 's',\n",
       " 'o',\n",
       " '\\n',\n",
       " 'c',\n",
       " 'h',\n",
       " 'e',\n",
       " ' ',\n",
       " 'n',\n",
       " 'o',\n",
       " 'n',\n",
       " ' ',\n",
       " 'l',\n",
       " 'a',\n",
       " 's',\n",
       " 'c',\n",
       " 'i',\n",
       " 'ò',\n",
       " ' ',\n",
       " 'g',\n",
       " 'i',\n",
       " 'à',\n",
       " ' ',\n",
       " 'm',\n",
       " 'a',\n",
       " 'i',\n",
       " ' ',\n",
       " 'p',\n",
       " 'e',\n",
       " 'r',\n",
       " 's',\n",
       " 'o',\n",
       " 'n',\n",
       " 'a',\n",
       " ' ',\n",
       " 'v',\n",
       " 'i',\n",
       " 'v',\n",
       " 'a',\n",
       " '.',\n",
       " '\\n',\n",
       " ' ',\n",
       " ' ',\n",
       " 'P',\n",
       " 'o',\n",
       " 'i',\n",
       " ' ',\n",
       " 'c',\n",
       " 'h',\n",
       " \"'\",\n",
       " 'è',\n",
       " 'i',\n",
       " ' ',\n",
       " 'p',\n",
       " 'o',\n",
       " 's',\n",
       " 'a',\n",
       " 't',\n",
       " 'o',\n",
       " ' ',\n",
       " 'u',\n",
       " 'n',\n",
       " ' ',\n",
       " 'p',\n",
       " 'o',\n",
       " 'c',\n",
       " 'o',\n",
       " ' ',\n",
       " 'i',\n",
       " 'l',\n",
       " ' ',\n",
       " 'c',\n",
       " 'o',\n",
       " 'r',\n",
       " 'p',\n",
       " 'o',\n",
       " ' ',\n",
       " 'l',\n",
       " 'a',\n",
       " 's',\n",
       " 's',\n",
       " 'o',\n",
       " ',',\n",
       " '\\n',\n",
       " 'r',\n",
       " 'i',\n",
       " 'p',\n",
       " 'r',\n",
       " 'e',\n",
       " 's',\n",
       " 'i',\n",
       " ' ',\n",
       " 'v',\n",
       " 'i',\n",
       " 'a',\n",
       " ' ',\n",
       " 'p',\n",
       " 'e',\n",
       " 'r',\n",
       " ' ',\n",
       " 'l',\n",
       " 'a',\n",
       " ' ',\n",
       " 'p',\n",
       " 'i',\n",
       " 'a',\n",
       " 'g',\n",
       " 'g',\n",
       " 'i',\n",
       " 'a',\n",
       " ' ',\n",
       " 'd',\n",
       " 'i',\n",
       " 's',\n",
       " 'e',\n",
       " 'r',\n",
       " 't',\n",
       " 'a',\n",
       " ',',\n",
       " '\\n',\n",
       " 's',\n",
       " 'ì',\n",
       " ' ',\n",
       " 'c',\n",
       " 'h',\n",
       " 'e',\n",
       " ' ',\n",
       " \"'\",\n",
       " 'l',\n",
       " ' ',\n",
       " 'p',\n",
       " 'i',\n",
       " 'è',\n",
       " ' ',\n",
       " 'f',\n",
       " 'e',\n",
       " 'r',\n",
       " 'm',\n",
       " 'o',\n",
       " ' ',\n",
       " 's',\n",
       " 'e',\n",
       " 'm',\n",
       " 'p',\n",
       " 'r',\n",
       " 'e',\n",
       " ' ',\n",
       " 'e',\n",
       " 'r',\n",
       " 'a',\n",
       " ' ',\n",
       " \"'\",\n",
       " 'l',\n",
       " ' ',\n",
       " 'p',\n",
       " 'i',\n",
       " 'ù',\n",
       " ' ',\n",
       " 'b',\n",
       " 'a',\n",
       " 's',\n",
       " 's',\n",
       " 'o',\n",
       " '.',\n",
       " '\\n',\n",
       " ' ',\n",
       " ' ',\n",
       " 'E',\n",
       " 'd',\n",
       " ' ',\n",
       " 'e',\n",
       " 'c',\n",
       " 'c',\n",
       " 'o',\n",
       " ',',\n",
       " ' ',\n",
       " 'q',\n",
       " 'u',\n",
       " 'a',\n",
       " 's',\n",
       " 'i',\n",
       " ' ',\n",
       " 'a',\n",
       " 'l',\n",
       " ' ']"
      ]
     },
     "execution_count": 72,
     "metadata": {},
     "output_type": "execute_result"
    }
   ],
   "source": [
    "[c for c in fh[1000:1200]]"
   ]
  },
  {
   "cell_type": "code",
   "execution_count": 62,
   "metadata": {
    "collapsed": false
   },
   "outputs": [
    {
     "data": {
      "text/plain": [
       "['ecco,un', \"po'di\", 'puntegg..iatura']"
      ]
     },
     "execution_count": 62,
     "metadata": {},
     "output_type": "execute_result"
    }
   ],
   "source": [
    "\"ecco,un\\npo'di puntegg..iatura\".split()"
   ]
  },
  {
   "cell_type": "code",
   "execution_count": 64,
   "metadata": {
    "collapsed": false
   },
   "outputs": [],
   "source": [
    "s = [\"ciao\",\"a\",\"tutti\"]"
   ]
  },
  {
   "cell_type": "code",
   "execution_count": 68,
   "metadata": {
    "collapsed": false
   },
   "outputs": [],
   "source": [
    "s = \"\".join(s)"
   ]
  },
  {
   "cell_type": "code",
   "execution_count": 71,
   "metadata": {
    "collapsed": false
   },
   "outputs": [
    {
     "data": {
      "text/plain": [
       "'ciaoatutti'"
      ]
     },
     "execution_count": 71,
     "metadata": {},
     "output_type": "execute_result"
    }
   ],
   "source": [
    "\"\".join([c for c in s])"
   ]
  },
  {
   "cell_type": "code",
   "execution_count": 73,
   "metadata": {
    "collapsed": true
   },
   "outputs": [],
   "source": [
    "s = \"ecco,un\\npo'di puntegg..iatura\""
   ]
  },
  {
   "cell_type": "code",
   "execution_count": 77,
   "metadata": {
    "collapsed": false
   },
   "outputs": [
    {
     "data": {
      "text/plain": [
       "\"eccoun\\npo'di punteggiatura\""
      ]
     },
     "execution_count": 77,
     "metadata": {},
     "output_type": "execute_result"
    }
   ],
   "source": [
    "\"\".join([c for c in s if not c in \".:,;-\"])"
   ]
  },
  {
   "cell_type": "code",
   "execution_count": 76,
   "metadata": {
    "collapsed": false
   },
   "outputs": [
    {
     "data": {
      "text/plain": [
       "True"
      ]
     },
     "execution_count": 76,
     "metadata": {},
     "output_type": "execute_result"
    }
   ],
   "source": [
    "'.' in \".;:\""
   ]
  },
  {
   "cell_type": "code",
   "execution_count": 78,
   "metadata": {
    "collapsed": true
   },
   "outputs": [],
   "source": [
    "from string import punctuation"
   ]
  },
  {
   "cell_type": "code",
   "execution_count": 79,
   "metadata": {
    "collapsed": false
   },
   "outputs": [
    {
     "data": {
      "text/plain": [
       "'!\"#$%&\\'()*+,-./:;<=>?@[\\\\]^_`{|}~'"
      ]
     },
     "execution_count": 79,
     "metadata": {},
     "output_type": "execute_result"
    }
   ],
   "source": [
    "punctuation"
   ]
  },
  {
   "cell_type": "code",
   "execution_count": 85,
   "metadata": {
    "collapsed": false
   },
   "outputs": [],
   "source": [
    "fh = \"\".join([(c if not c in punctuation else \" \") for c in fh])"
   ]
  },
  {
   "cell_type": "code",
   "execution_count": 86,
   "metadata": {
    "collapsed": false
   },
   "outputs": [
    {
     "data": {
      "text/plain": [
       "'a rimirar lo passo\\nche non lasciò già mai persona viva \\n  Poi ch èi posato un poco il corpo lasso \\nripresi via per la piaggia diserta \\nsì che  l piè fermo sempre era  l più basso \\n  Ed ecco  quasi al '"
      ]
     },
     "execution_count": 86,
     "metadata": {},
     "output_type": "execute_result"
    }
   ],
   "source": [
    "fh[1000:1200]"
   ]
  },
  {
   "cell_type": "code",
   "execution_count": 87,
   "metadata": {
    "collapsed": true
   },
   "outputs": [],
   "source": [
    "words = fh.split()"
   ]
  },
  {
   "cell_type": "code",
   "execution_count": 88,
   "metadata": {
    "collapsed": false
   },
   "outputs": [
    {
     "data": {
      "text/plain": [
       "101915"
      ]
     },
     "execution_count": 88,
     "metadata": {},
     "output_type": "execute_result"
    }
   ],
   "source": [
    "len(words)"
   ]
  },
  {
   "cell_type": "code",
   "execution_count": 89,
   "metadata": {
    "collapsed": false
   },
   "outputs": [
    {
     "data": {
      "text/plain": [
       "13517"
      ]
     },
     "execution_count": 89,
     "metadata": {},
     "output_type": "execute_result"
    }
   ],
   "source": [
    "len(set(words))"
   ]
  },
  {
   "cell_type": "code",
   "execution_count": 90,
   "metadata": {
    "collapsed": true
   },
   "outputs": [],
   "source": [
    "words = list(set(words))"
   ]
  },
  {
   "cell_type": "code",
   "execution_count": 92,
   "metadata": {
    "collapsed": false
   },
   "outputs": [
    {
     "data": {
      "text/plain": [
       "'mite'"
      ]
     },
     "execution_count": 92,
     "metadata": {},
     "output_type": "execute_result"
    }
   ],
   "source": [
    "words[1500]"
   ]
  },
  {
   "cell_type": "code",
   "execution_count": 93,
   "metadata": {
    "collapsed": true
   },
   "outputs": [],
   "source": [
    "from random import choice"
   ]
  },
  {
   "cell_type": "code",
   "execution_count": 94,
   "metadata": {
    "collapsed": false
   },
   "outputs": [
    {
     "data": {
      "text/plain": [
       "'centesmo'"
      ]
     },
     "execution_count": 94,
     "metadata": {},
     "output_type": "execute_result"
    }
   ],
   "source": [
    "choice(words)"
   ]
  },
  {
   "cell_type": "code",
   "execution_count": 95,
   "metadata": {
    "collapsed": false
   },
   "outputs": [
    {
     "data": {
      "text/plain": [
       "['terre',\n",
       " 'grazia',\n",
       " 'eclissar',\n",
       " 'diurno',\n",
       " 'registra',\n",
       " 'creatore',\n",
       " 'Ettore',\n",
       " 'triunfare',\n",
       " 'dirne',\n",
       " 'dichiareranti']"
      ]
     },
     "execution_count": 95,
     "metadata": {},
     "output_type": "execute_result"
    }
   ],
   "source": [
    "[choice(words) for _ in range(10)]"
   ]
  },
  {
   "cell_type": "code",
   "execution_count": 96,
   "metadata": {
    "collapsed": true
   },
   "outputs": [],
   "source": [
    "words.sort()"
   ]
  },
  {
   "cell_type": "code",
   "execution_count": 98,
   "metadata": {
    "collapsed": false
   },
   "outputs": [
    {
     "data": {
      "text/plain": [
       "'A'"
      ]
     },
     "execution_count": 98,
     "metadata": {},
     "output_type": "execute_result"
    }
   ],
   "source": [
    "words[0]"
   ]
  },
  {
   "cell_type": "code",
   "execution_count": 99,
   "metadata": {
    "collapsed": false
   },
   "outputs": [
    {
     "data": {
      "text/plain": [
       "['A',\n",
       " 'Abbagliato',\n",
       " 'Abido',\n",
       " 'Abraàm',\n",
       " 'Absalone',\n",
       " 'Abèl',\n",
       " 'Acciò',\n",
       " 'Accorso',\n",
       " 'Acheronte',\n",
       " 'Achille']"
      ]
     },
     "execution_count": 99,
     "metadata": {},
     "output_type": "execute_result"
    }
   ],
   "source": [
    "words[:10]"
   ]
  },
  {
   "cell_type": "code",
   "execution_count": 100,
   "metadata": {
    "collapsed": false
   },
   "outputs": [
    {
     "data": {
      "text/plain": [
       "[('t', 1),\n",
       " ('c', 1),\n",
       " ('è', 1),\n",
       " ('l', 1),\n",
       " ('h', 1),\n",
       " ('i', 1),\n",
       " ('A', 1),\n",
       " ('f', 1),\n",
       " ('o', 1)]"
      ]
     },
     "execution_count": 100,
     "metadata": {},
     "output_type": "execute_result"
    }
   ],
   "source": [
    "ccs(words[10])"
   ]
  },
  {
   "cell_type": "code",
   "execution_count": 101,
   "metadata": {
    "collapsed": true
   },
   "outputs": [],
   "source": [
    "qw = [(ccs(w), w) for w in words]\n"
   ]
  },
  {
   "cell_type": "code",
   "execution_count": 103,
   "metadata": {
    "collapsed": false
   },
   "outputs": [
    {
     "data": {
      "text/plain": [
       "(5, 'e')"
      ]
     },
     "execution_count": 103,
     "metadata": {},
     "output_type": "execute_result"
    }
   ],
   "source": [
    "fboh(words)"
   ]
  },
  {
   "cell_type": "code",
   "execution_count": 104,
   "metadata": {
    "collapsed": false
   },
   "outputs": [
    {
     "data": {
      "text/plain": [
       "['Seguentemente', 'differentemente', 'perpetualemente']"
      ]
     },
     "execution_count": 104,
     "metadata": {},
     "output_type": "execute_result"
    }
   ],
   "source": [
    "sleep(10)\n",
    "[w for w in words if len([c for c in w if c == 'e']) == 5]"
   ]
  },
  {
   "cell_type": "code",
   "execution_count": 105,
   "metadata": {
    "collapsed": true
   },
   "outputs": [],
   "source": [
    "from collections import Counter"
   ]
  },
  {
   "cell_type": "code",
   "execution_count": 106,
   "metadata": {
    "collapsed": false
   },
   "outputs": [
    {
     "data": {
      "text/plain": [
       "Counter({'Lachesìs': 1,\n",
       "         'rigagno': 1,\n",
       "         'dipartille': 1,\n",
       "         'iube': 1,\n",
       "         'spandeva': 1,\n",
       "         'angeliche': 1,\n",
       "         'espresse': 1,\n",
       "         'affoca': 1,\n",
       "         'prava': 1,\n",
       "         'modi': 1,\n",
       "         'lati': 1,\n",
       "         'seguiti': 1,\n",
       "         'sormonti': 1,\n",
       "         'Menalippo': 1,\n",
       "         'sedere': 1,\n",
       "         'formaro': 1,\n",
       "         'era': 1,\n",
       "         'pineta': 1,\n",
       "         'mirava': 1,\n",
       "         'retroso': 1,\n",
       "         'partita': 1,\n",
       "         'Degno': 1,\n",
       "         'accolti': 1,\n",
       "         'soggiunse': 1,\n",
       "         'lasciala': 1,\n",
       "         'viglia': 1,\n",
       "         'barone': 1,\n",
       "         'marinar': 1,\n",
       "         'Attraversato': 1,\n",
       "         'poveri': 1,\n",
       "         'doga': 1,\n",
       "         'vapor': 1,\n",
       "         'fregò': 1,\n",
       "         'doglienza': 1,\n",
       "         'giuste': 1,\n",
       "         'nsidie': 1,\n",
       "         'trarria': 1,\n",
       "         'nominanza': 1,\n",
       "         'vuo': 1,\n",
       "         'paterna': 1,\n",
       "         'ridi': 1,\n",
       "         'Eolo': 1,\n",
       "         'Per': 1,\n",
       "         'Fiesole': 1,\n",
       "         'attraversa': 1,\n",
       "         'grato': 1,\n",
       "         'fuggisti': 1,\n",
       "         'Ettore': 1,\n",
       "         'hanno': 1,\n",
       "         'Iddio': 1,\n",
       "         'rideva': 1,\n",
       "         'spose': 1,\n",
       "         'rimanea': 1,\n",
       "         'conoscete': 1,\n",
       "         'Canavese': 1,\n",
       "         'pietosamente': 1,\n",
       "         'sbigottir': 1,\n",
       "         'giostrò': 1,\n",
       "         'saver': 1,\n",
       "         'serrava': 1,\n",
       "         'avversaro': 1,\n",
       "         'taccio': 1,\n",
       "         'gissi': 1,\n",
       "         'parlava': 1,\n",
       "         'retaggio': 1,\n",
       "         'faccian': 1,\n",
       "         'diavoli': 1,\n",
       "         'vela': 1,\n",
       "         'cuopra': 1,\n",
       "         'accosta': 1,\n",
       "         'Con': 1,\n",
       "         'solemo': 1,\n",
       "         'meridian': 1,\n",
       "         'orecchi': 1,\n",
       "         'parlommi': 1,\n",
       "         'entrata': 1,\n",
       "         'uscisser': 1,\n",
       "         'rimpalmare': 1,\n",
       "         'proposto': 1,\n",
       "         'spirando': 1,\n",
       "         'ammirazione': 1,\n",
       "         'roco': 1,\n",
       "         'digesta': 1,\n",
       "         'divenn': 1,\n",
       "         'Tedeschi': 1,\n",
       "         'raggerà': 1,\n",
       "         'soffolge': 1,\n",
       "         'Chiana': 1,\n",
       "         'spiega': 1,\n",
       "         'freni': 1,\n",
       "         'apparvero': 1,\n",
       "         'tosto': 1,\n",
       "         'sariesi': 1,\n",
       "         'ficcai': 1,\n",
       "         'froda': 1,\n",
       "         'giace': 1,\n",
       "         'Saria': 1,\n",
       "         'berze': 1,\n",
       "         'perdere': 1,\n",
       "         'biasimo': 1,\n",
       "         'pernotta': 1,\n",
       "         'vituperio': 1,\n",
       "         'mattina': 1,\n",
       "         'aprirmi': 1,\n",
       "         'Sapìa': 1,\n",
       "         'lasciano': 1,\n",
       "         'Bene': 1,\n",
       "         'foglia': 1,\n",
       "         'rappresentare': 1,\n",
       "         'incendio': 1,\n",
       "         'battien': 1,\n",
       "         'ratta': 1,\n",
       "         'essendo': 1,\n",
       "         'stese': 1,\n",
       "         'argomenti': 1,\n",
       "         'drittura': 1,\n",
       "         'occidente': 1,\n",
       "         'zaffiro': 1,\n",
       "         'translato': 1,\n",
       "         'suddito': 1,\n",
       "         'pianta': 1,\n",
       "         'dirne': 1,\n",
       "         'umiliato': 1,\n",
       "         'fascian': 1,\n",
       "         'fangose': 1,\n",
       "         'Raphél': 1,\n",
       "         'affama': 1,\n",
       "         'nostro': 1,\n",
       "         'disire': 1,\n",
       "         'eretti': 1,\n",
       "         'dittator': 1,\n",
       "         'dien': 1,\n",
       "         'invidi': 1,\n",
       "         'ripriso': 1,\n",
       "         'schifo': 1,\n",
       "         'chi': 1,\n",
       "         'dove': 1,\n",
       "         'discendendo': 1,\n",
       "         'dirompea': 1,\n",
       "         'nasca': 1,\n",
       "         'Pigmalion': 1,\n",
       "         'scendete': 1,\n",
       "         'stole': 1,\n",
       "         'intendemmo': 1,\n",
       "         'ristrinsi': 1,\n",
       "         'dovessiti': 1,\n",
       "         'serocchia': 1,\n",
       "         'serpi': 1,\n",
       "         'usanza': 1,\n",
       "         'Palermo': 1,\n",
       "         'leve': 1,\n",
       "         'venisti': 1,\n",
       "         'crescerà': 1,\n",
       "         'feda': 1,\n",
       "         'dismaglie': 1,\n",
       "         'primizia': 1,\n",
       "         'differenti': 1,\n",
       "         'concetti': 1,\n",
       "         'dannando': 1,\n",
       "         'cime': 1,\n",
       "         'iernotte': 1,\n",
       "         'fanciulli': 1,\n",
       "         'peccatore': 1,\n",
       "         'plaga': 1,\n",
       "         'impregna': 1,\n",
       "         'regola': 1,\n",
       "         'levò': 1,\n",
       "         'lievre': 1,\n",
       "         'involto': 1,\n",
       "         'fóra': 1,\n",
       "         'pressura': 1,\n",
       "         'Luigi': 1,\n",
       "         'grosse': 1,\n",
       "         'Castel': 1,\n",
       "         'Ema': 1,\n",
       "         'tenebra': 1,\n",
       "         'Sardigna': 1,\n",
       "         'ruscelletti': 1,\n",
       "         'digiunto': 1,\n",
       "         'addusse': 1,\n",
       "         'nsieme': 1,\n",
       "         'rifrangesse': 1,\n",
       "         'permutazion': 1,\n",
       "         'Margherita': 1,\n",
       "         'ricenti': 1,\n",
       "         'Mia': 1,\n",
       "         'impossibil': 1,\n",
       "         'poetaro': 1,\n",
       "         'piatti': 1,\n",
       "         'solida': 1,\n",
       "         'Dolcin': 1,\n",
       "         'fisso': 1,\n",
       "         'passione': 1,\n",
       "         'conversione': 1,\n",
       "         'aveva': 1,\n",
       "         'Cefàs': 1,\n",
       "         'rampollo': 1,\n",
       "         'deliro': 1,\n",
       "         'arredi': 1,\n",
       "         'pesi': 1,\n",
       "         'taciuto': 1,\n",
       "         'esperto': 1,\n",
       "         'latrò': 1,\n",
       "         'partio': 1,\n",
       "         'drizzando': 1,\n",
       "         'coglie': 1,\n",
       "         'merlo': 1,\n",
       "         'Tosco': 1,\n",
       "         'tornando': 1,\n",
       "         'dimandi': 1,\n",
       "         'pigliando': 1,\n",
       "         'Temi': 1,\n",
       "         'errando': 1,\n",
       "         'abbandono': 1,\n",
       "         'aggrappa': 1,\n",
       "         'Camonica': 1,\n",
       "         'schiena': 1,\n",
       "         'morta': 1,\n",
       "         'rifuggir': 1,\n",
       "         'gittando': 1,\n",
       "         'felle': 1,\n",
       "         'discreta': 1,\n",
       "         'fecemi': 1,\n",
       "         'legati': 1,\n",
       "         'tortura': 1,\n",
       "         'tura': 1,\n",
       "         'sorprende': 1,\n",
       "         'dannò': 1,\n",
       "         'giovial': 1,\n",
       "         'Aegypto': 1,\n",
       "         'rimirar': 1,\n",
       "         'escono': 1,\n",
       "         'dormia': 1,\n",
       "         'lunghesso': 1,\n",
       "         'incominciaro': 1,\n",
       "         'costellazion': 1,\n",
       "         'empireo': 1,\n",
       "         'comporti': 1,\n",
       "         'vivace': 1,\n",
       "         'batter': 1,\n",
       "         'Dissemi': 1,\n",
       "         'Tebaldo': 1,\n",
       "         'risplendere': 1,\n",
       "         'ricolto': 1,\n",
       "         'coculla': 1,\n",
       "         'vestimento': 1,\n",
       "         'ponticelli': 1,\n",
       "         'dilegue': 1,\n",
       "         'chino': 1,\n",
       "         'veggiam': 1,\n",
       "         'Fecesi': 1,\n",
       "         'lagrimar': 1,\n",
       "         'Maccario': 1,\n",
       "         'grattar': 1,\n",
       "         'Quale': 1,\n",
       "         'Chiunque': 1,\n",
       "         'cristiana': 1,\n",
       "         'Fuor': 1,\n",
       "         'Caponsacco': 1,\n",
       "         'unta': 1,\n",
       "         'lungi': 1,\n",
       "         'convenette': 1,\n",
       "         'rinovellar': 1,\n",
       "         'dimorò': 1,\n",
       "         'cantilena': 1,\n",
       "         'contegno': 1,\n",
       "         'Chirón': 1,\n",
       "         'test': 1,\n",
       "         'Gade': 1,\n",
       "         'essercito': 1,\n",
       "         'Amore': 1,\n",
       "         'avolo': 1,\n",
       "         'audivi': 1,\n",
       "         'gozzo': 1,\n",
       "         'compagno': 1,\n",
       "         'profani': 1,\n",
       "         'mutar': 1,\n",
       "         'stormire': 1,\n",
       "         'sente': 1,\n",
       "         'nodrì': 1,\n",
       "         'asconder': 1,\n",
       "         'staman': 1,\n",
       "         'difettivi': 1,\n",
       "         'mundo': 1,\n",
       "         'Amor': 1,\n",
       "         'Pier': 1,\n",
       "         'godi': 1,\n",
       "         'vermiglio': 1,\n",
       "         'prendono': 1,\n",
       "         'rifà': 1,\n",
       "         'metallo': 1,\n",
       "         'ruffian': 1,\n",
       "         'disperate': 1,\n",
       "         'fenestra': 1,\n",
       "         'soggiogare': 1,\n",
       "         'cuopre': 1,\n",
       "         'folto': 1,\n",
       "         'bere': 1,\n",
       "         'smarri': 1,\n",
       "         'fantasie': 1,\n",
       "         'stormo': 1,\n",
       "         'dubbio': 1,\n",
       "         'compenso': 1,\n",
       "         'rispondien': 1,\n",
       "         'cangerebbe': 1,\n",
       "         'dignitadi': 1,\n",
       "         'temperar': 1,\n",
       "         'emme': 1,\n",
       "         'sitisti': 1,\n",
       "         'Almeon': 1,\n",
       "         'crollò': 1,\n",
       "         'sacre': 1,\n",
       "         'misere': 1,\n",
       "         'risonavan': 1,\n",
       "         'Traiano': 1,\n",
       "         'potean': 1,\n",
       "         'revelando': 1,\n",
       "         'Marco': 1,\n",
       "         'turbarsi': 1,\n",
       "         'leonessa': 1,\n",
       "         'minacci': 1,\n",
       "         'segretamente': 1,\n",
       "         'temo': 1,\n",
       "         'trafitta': 1,\n",
       "         'consuma': 1,\n",
       "         'conquiso': 1,\n",
       "         'Intanto': 1,\n",
       "         'Colchi': 1,\n",
       "         'affissi': 1,\n",
       "         'puttana': 1,\n",
       "         'squilli': 1,\n",
       "         'asseta': 1,\n",
       "         'Scipione': 1,\n",
       "         'Libano': 1,\n",
       "         'dolore': 1,\n",
       "         'Tale': 1,\n",
       "         'Ricominciar': 1,\n",
       "         'ntendi': 1,\n",
       "         'un': 1,\n",
       "         'Mantua': 1,\n",
       "         'finita': 1,\n",
       "         'rispondo': 1,\n",
       "         'malvagia': 1,\n",
       "         'Pur': 1,\n",
       "         'mutarsi': 1,\n",
       "         'vorrebbe': 1,\n",
       "         'rogna': 1,\n",
       "         'amomo': 1,\n",
       "         'cascar': 1,\n",
       "         'Campi': 1,\n",
       "         'bisavol': 1,\n",
       "         'eresiarche': 1,\n",
       "         'contrade': 1,\n",
       "         'Cesar': 1,\n",
       "         'fue': 1,\n",
       "         'rapaci': 1,\n",
       "         'sostenni': 1,\n",
       "         'cerro': 1,\n",
       "         'azzurra': 1,\n",
       "         'sciocche': 1,\n",
       "         'mestiere': 1,\n",
       "         'vane': 1,\n",
       "         'Miserere': 1,\n",
       "         'spaldi': 1,\n",
       "         'sentir': 1,\n",
       "         'ploia': 1,\n",
       "         'men': 1,\n",
       "         'riarmar': 1,\n",
       "         'postrema': 1,\n",
       "         'carca': 1,\n",
       "         'consunsi': 1,\n",
       "         'sospetto': 1,\n",
       "         'disfatta': 1,\n",
       "         'camo': 1,\n",
       "         'andarne': 1,\n",
       "         'scole': 1,\n",
       "         'sigillava': 1,\n",
       "         'Avete': 1,\n",
       "         'coscia': 1,\n",
       "         'impingua': 1,\n",
       "         'lingue': 1,\n",
       "         'presuntuoso': 1,\n",
       "         'rivolgendo': 1,\n",
       "         'peggior': 1,\n",
       "         'rivolgiti': 1,\n",
       "         'chiosa': 1,\n",
       "         'frustato': 1,\n",
       "         'fantin': 1,\n",
       "         'Ierusalèm': 1,\n",
       "         'triunfa': 1,\n",
       "         'siam': 1,\n",
       "         'ammalia': 1,\n",
       "         'agevolezze': 1,\n",
       "         'chiame': 1,\n",
       "         'secondamente': 1,\n",
       "         'nostr': 1,\n",
       "         'rimote': 1,\n",
       "         'succedono': 1,\n",
       "         'piego': 1,\n",
       "         'Bocca': 1,\n",
       "         'artista': 1,\n",
       "         'attuffare': 1,\n",
       "         'sparse': 1,\n",
       "         'anguilla': 1,\n",
       "         'Greco': 1,\n",
       "         'credesse': 1,\n",
       "         'abbandoni': 1,\n",
       "         'Queste': 1,\n",
       "         'agi': 1,\n",
       "         'accorsi': 1,\n",
       "         'perseguette': 1,\n",
       "         'mai': 1,\n",
       "         'mala': 1,\n",
       "         'Vecchio': 1,\n",
       "         'viaggio': 1,\n",
       "         'pantano': 1,\n",
       "         'rinchiusa': 1,\n",
       "         'saldo': 1,\n",
       "         'temett': 1,\n",
       "         'quadrel': 1,\n",
       "         'buia': 1,\n",
       "         'occhio': 1,\n",
       "         'divenendo': 1,\n",
       "         'case': 1,\n",
       "         'tratte': 1,\n",
       "         'ferisse': 1,\n",
       "         'abbandonai': 1,\n",
       "         'seguirla': 1,\n",
       "         'mozzo': 1,\n",
       "         'brusciato': 1,\n",
       "         'accapriccia': 1,\n",
       "         'Isaia': 1,\n",
       "         'dimandasti': 1,\n",
       "         'perdono': 1,\n",
       "         'aiutami': 1,\n",
       "         'Attendi': 1,\n",
       "         'comun': 1,\n",
       "         'gigli': 1,\n",
       "         'animal': 1,\n",
       "         'abito': 1,\n",
       "         'dovieti': 1,\n",
       "         'reflettea': 1,\n",
       "         'petti': 1,\n",
       "         'nutrice': 1,\n",
       "         'folgorando': 1,\n",
       "         'Fiorentini': 1,\n",
       "         'disiata': 1,\n",
       "         'ce': 1,\n",
       "         'disposizion': 1,\n",
       "         'scrittura': 1,\n",
       "         'falsi': 1,\n",
       "         'spiritu': 1,\n",
       "         'Bismantova': 1,\n",
       "         'drizzeremo': 1,\n",
       "         'dispettoso': 1,\n",
       "         'Piangerà': 1,\n",
       "         'Fieramente': 1,\n",
       "         'scuffa': 1,\n",
       "         'ricadeva': 1,\n",
       "         'remo': 1,\n",
       "         'fassene': 1,\n",
       "         'Argia': 1,\n",
       "         'XXXIV': 1,\n",
       "         'pieta': 1,\n",
       "         'Lume': 1,\n",
       "         'satolli': 1,\n",
       "         'livida': 1,\n",
       "         'alti': 1,\n",
       "         'primo': 1,\n",
       "         'Clemente': 1,\n",
       "         'Oriaco': 1,\n",
       "         'terrà': 1,\n",
       "         'cocea': 1,\n",
       "         'tela': 1,\n",
       "         'cintola': 1,\n",
       "         'cul': 1,\n",
       "         'giran': 1,\n",
       "         'gratia': 1,\n",
       "         'arrestin': 1,\n",
       "         'casti': 1,\n",
       "         'vedeste': 1,\n",
       "         'converrassi': 1,\n",
       "         'Sopra': 1,\n",
       "         'gli': 1,\n",
       "         'fuggito': 1,\n",
       "         'Védeisi': 1,\n",
       "         'Opizzo': 1,\n",
       "         'reverenza': 1,\n",
       "         'Quindi': 1,\n",
       "         'intende': 1,\n",
       "         'dava': 1,\n",
       "         'chiavi': 1,\n",
       "         'discoverto': 1,\n",
       "         'medesme': 1,\n",
       "         'indarno': 1,\n",
       "         'mormorava': 1,\n",
       "         'Ecce': 1,\n",
       "         'igual': 1,\n",
       "         'snelle': 1,\n",
       "         'Vedrassi': 1,\n",
       "         'quistione': 1,\n",
       "         'Augusto': 1,\n",
       "         'osava': 1,\n",
       "         'Quattro': 1,\n",
       "         'maturo': 1,\n",
       "         'Anastasio': 1,\n",
       "         'giugne': 1,\n",
       "         'organa': 1,\n",
       "         'Mele': 1,\n",
       "         'vassalli': 1,\n",
       "         'teodìa': 1,\n",
       "         'idropico': 1,\n",
       "         'gride': 1,\n",
       "         'affatica': 1,\n",
       "         'contenute': 1,\n",
       "         'soffi': 1,\n",
       "         'male': 1,\n",
       "         'concorde': 1,\n",
       "         'duri': 1,\n",
       "         'cattivo': 1,\n",
       "         'rattrappa': 1,\n",
       "         'oscuro': 1,\n",
       "         'renduta': 1,\n",
       "         'pompeana': 1,\n",
       "         'ricadde': 1,\n",
       "         'cittadina': 1,\n",
       "         'intrata': 1,\n",
       "         'Olimpo': 1,\n",
       "         'affronti': 1,\n",
       "         'torneranno': 1,\n",
       "         'sicut': 1,\n",
       "         'delubro': 1,\n",
       "         'esse': 1,\n",
       "         'guardassi': 1,\n",
       "         'torpente': 1,\n",
       "         'maltolletto': 1,\n",
       "         'spiacer': 1,\n",
       "         'atterra': 1,\n",
       "         'perde': 1,\n",
       "         'nuoce': 1,\n",
       "         'vedervi': 1,\n",
       "         'pèra': 1,\n",
       "         'antica': 1,\n",
       "         'fecero': 1,\n",
       "         'provedenza': 1,\n",
       "         'XXX': 1,\n",
       "         'essaminava': 1,\n",
       "         'glorioso': 1,\n",
       "         'fronda': 1,\n",
       "         'panno': 1,\n",
       "         'annieghi': 1,\n",
       "         'quel': 1,\n",
       "         'gode': 1,\n",
       "         'com': 1,\n",
       "         'mazzerati': 1,\n",
       "         'armava': 1,\n",
       "         'prope': 1,\n",
       "         'molta': 1,\n",
       "         'disfavillo': 1,\n",
       "         'rapiva': 1,\n",
       "         'natio': 1,\n",
       "         'Cocito': 1,\n",
       "         'mostrando': 1,\n",
       "         'salta': 1,\n",
       "         'carbon': 1,\n",
       "         'Livio': 1,\n",
       "         'felicitando': 1,\n",
       "         'fóri': 1,\n",
       "         'scuro': 1,\n",
       "         'terren': 1,\n",
       "         'entri': 1,\n",
       "         'dolermi': 1,\n",
       "         'Tragge': 1,\n",
       "         'Penestrino': 1,\n",
       "         'pennuta': 1,\n",
       "         'chinarsi': 1,\n",
       "         'Polinestòr': 1,\n",
       "         'arbuscelli': 1,\n",
       "         'genera': 1,\n",
       "         'Quivi': 1,\n",
       "         'disusa': 1,\n",
       "         'riceve': 1,\n",
       "         'rise': 1,\n",
       "         'scritto': 1,\n",
       "         'riprendiene': 1,\n",
       "         'guidi': 1,\n",
       "         'fossimo': 1,\n",
       "         'cresciemi': 1,\n",
       "         'Il': 1,\n",
       "         'freddura': 1,\n",
       "         'vedova': 1,\n",
       "         'appresenti': 1,\n",
       "         'confession': 1,\n",
       "         'dallato': 1,\n",
       "         'Ligurgo': 1,\n",
       "         'elementi': 1,\n",
       "         'angoscioso': 1,\n",
       "         'diede': 1,\n",
       "         'imaginando': 1,\n",
       "         'condoleami': 1,\n",
       "         'cannucce': 1,\n",
       "         'informati': 1,\n",
       "         'tormenti': 1,\n",
       "         'parlassi': 1,\n",
       "         'disfecemi': 1,\n",
       "         'imperador': 1,\n",
       "         'Galizia': 1,\n",
       "         'splendeva': 1,\n",
       "         'cherubini': 1,\n",
       "         'segnoria': 1,\n",
       "         'convegnon': 1,\n",
       "         'persegue': 1,\n",
       "         'mpiastro': 1,\n",
       "         'fidandomi': 1,\n",
       "         'cerchiato': 1,\n",
       "         'latebra': 1,\n",
       "         'cassi': 1,\n",
       "         'amici': 1,\n",
       "         'desso': 1,\n",
       "         'passarmen': 1,\n",
       "         'Quelle': 1,\n",
       "         'messagger': 1,\n",
       "         'galeotto': 1,\n",
       "         'umilmente': 1,\n",
       "         'costrigner': 1,\n",
       "         'rauni': 1,\n",
       "         'scanni': 1,\n",
       "         'parlammo': 1,\n",
       "         'manco': 1,\n",
       "         'lietamente': 1,\n",
       "         'desiderio': 1,\n",
       "         'rendon': 1,\n",
       "         'punito': 1,\n",
       "         'facci': 1,\n",
       "         'troppo': 1,\n",
       "         'Cred': 1,\n",
       "         'tempesta': 1,\n",
       "         'consunto': 1,\n",
       "         'Rubicante': 1,\n",
       "         'popol': 1,\n",
       "         'santissima': 1,\n",
       "         'negato': 1,\n",
       "         'egregi': 1,\n",
       "         'baldanza': 1,\n",
       "         'concetto': 1,\n",
       "         'biscia': 1,\n",
       "         'Matto': 1,\n",
       "         'volontade': 1,\n",
       "         'nigri': 1,\n",
       "         'matta': 1,\n",
       "         'essa': 1,\n",
       "         'cieli': 1,\n",
       "         'trasporta': 1,\n",
       "         'commota': 1,\n",
       "         'malacòth': 1,\n",
       "         'caccia': 1,\n",
       "         'augelletti': 1,\n",
       "         'lume': 1,\n",
       "         'sofferti': 1,\n",
       "         'aequar': 1,\n",
       "         'Terrenzio': 1,\n",
       "         'tirano': 1,\n",
       "         'picciole': 1,\n",
       "         'chinavi': 1,\n",
       "         'aiutarti': 1,\n",
       "         'Caccia': 1,\n",
       "         'vinse': 1,\n",
       "         'sacra': 1,\n",
       "         'menzionando': 1,\n",
       "         'Vie': 1,\n",
       "         'ramora': 1,\n",
       "         'dolcezza': 1,\n",
       "         'centauro': 1,\n",
       "         'evangelico': 1,\n",
       "         'suoni': 1,\n",
       "         'affanna': 1,\n",
       "         'ai': 1,\n",
       "         'cennamella': 1,\n",
       "         'pepe': 1,\n",
       "         'imaginato': 1,\n",
       "         'Buoso': 1,\n",
       "         'perdonasse': 1,\n",
       "         'Verbo': 1,\n",
       "         'cherci': 1,\n",
       "         'formica': 1,\n",
       "         'apparer': 1,\n",
       "         'passaro': 1,\n",
       "         'Temer': 1,\n",
       "         'nacque': 1,\n",
       "         'tiranno': 1,\n",
       "         'ventidue': 1,\n",
       "         'riso': 1,\n",
       "         'bona': 1,\n",
       "         'false': 1,\n",
       "         'sorpresa': 1,\n",
       "         'rider': 1,\n",
       "         'impruna': 1,\n",
       "         'gravido': 1,\n",
       "         'cotanta': 1,\n",
       "         'stelo': 1,\n",
       "         'consolare': 1,\n",
       "         'puot': 1,\n",
       "         'stillasti': 1,\n",
       "         'sospir': 1,\n",
       "         'Avicenna': 1,\n",
       "         'soggiorno': 1,\n",
       "         'volgeva': 1,\n",
       "         'Doria': 1,\n",
       "         'Fialte': 1,\n",
       "         'sacrosanto': 1,\n",
       "         'oppinion': 1,\n",
       "         'spungo': 1,\n",
       "         'givi': 1,\n",
       "         'rigirando': 1,\n",
       "         'cheggia': 1,\n",
       "         'alberghi': 1,\n",
       "         'segni': 1,\n",
       "         'Anima': 1,\n",
       "         'sorda': 1,\n",
       "         'comparte': 1,\n",
       "         'idioma': 1,\n",
       "         'divizia': 1,\n",
       "         'Piglia': 1,\n",
       "         'Fassi': 1,\n",
       "         'vedesti': 1,\n",
       "         'fil': 1,\n",
       "         'rivolsi': 1,\n",
       "         'prove': 1,\n",
       "         'gorda': 1,\n",
       "         'Va': 1,\n",
       "         'contende': 1,\n",
       "         'apparecchian': 1,\n",
       "         'potavam': 1,\n",
       "         'atti': 1,\n",
       "         'dipinge': 1,\n",
       "         'Mosse': 1,\n",
       "         'cobrire': 1,\n",
       "         'anitra': 1,\n",
       "         'lasciato': 1,\n",
       "         'sgorga': 1,\n",
       "         'tardo': 1,\n",
       "         'poche': 1,\n",
       "         'scoperti': 1,\n",
       "         'sieti': 1,\n",
       "         'temperanza': 1,\n",
       "         'sentivano': 1,\n",
       "         'liqua': 1,\n",
       "         'rimbomba': 1,\n",
       "         'Galigaio': 1,\n",
       "         'sobranza': 1,\n",
       "         'gole': 1,\n",
       "         'aver': 1,\n",
       "         'Ancor': 1,\n",
       "         'convenia': 1,\n",
       "         'legava': 1,\n",
       "         'assottiglia': 1,\n",
       "         'bestemmia': 1,\n",
       "         'imbruna': 1,\n",
       "         'Siate': 1,\n",
       "         'stinse': 1,\n",
       "         'chin': 1,\n",
       "         'smorto': 1,\n",
       "         'puoi': 1,\n",
       "         'infima': 1,\n",
       "         'effetti': 1,\n",
       "         'sensi': 1,\n",
       "         'ricca': 1,\n",
       "         'eccelso': 1,\n",
       "         'mostrato': 1,\n",
       "         'allaga': 1,\n",
       "         'mendicando': 1,\n",
       "         'greco': 1,\n",
       "         'vestito': 1,\n",
       "         'ricominciò': 1,\n",
       "         'fornita': 1,\n",
       "         'raggia': 1,\n",
       "         'calme': 1,\n",
       "         'bianchi': 1,\n",
       "         'chiusero': 1,\n",
       "         'facultade': 1,\n",
       "         'gridan': 1,\n",
       "         'sponde': 1,\n",
       "         'sitiunt': 1,\n",
       "         'selvaggio': 1,\n",
       "         'sonnolenza': 1,\n",
       "         'balli': 1,\n",
       "         'vaca': 1,\n",
       "         'Pallante': 1,\n",
       "         'cenno': 1,\n",
       "         'buona': 1,\n",
       "         'Principio': 1,\n",
       "         'Alfa': 1,\n",
       "         'fortunate': 1,\n",
       "         'tedesco': 1,\n",
       "         'scaleo': 1,\n",
       "         'candida': 1,\n",
       "         'rapide': 1,\n",
       "         'latri': 1,\n",
       "         'Federico': 1,\n",
       "         'ali': 1,\n",
       "         'raccostammo': 1,\n",
       "         'lupi': 1,\n",
       "         'U': 1,\n",
       "         'chiarirti': 1,\n",
       "         'portarne': 1,\n",
       "         'ardi': 1,\n",
       "         'sembiava': 1,\n",
       "         'Vespero': 1,\n",
       "         'patria': 1,\n",
       "         'insapora': 1,\n",
       "         'dislega': 1,\n",
       "         'disiri': 1,\n",
       "         'rivolve': 1,\n",
       "         'costoro': 1,\n",
       "         'Molta': 1,\n",
       "         'recar': 1,\n",
       "         'morale': 1,\n",
       "         'drizzar': 1,\n",
       "         'inchinai': 1,\n",
       "         'consorto': 1,\n",
       "         'antiche': 1,\n",
       "         'pendici': 1,\n",
       "         'dindi': 1,\n",
       "         'rabbioso': 1,\n",
       "         'tuon': 1,\n",
       "         'giunture': 1,\n",
       "         'lavarsi': 1,\n",
       "         'ficcando': 1,\n",
       "         'Estèr': 1,\n",
       "         'ardente': 1,\n",
       "         'sconoscente': 1,\n",
       "         'brago': 1,\n",
       "         'anello': 1,\n",
       "         'predon': 1,\n",
       "         'cappa': 1,\n",
       "         'parlavan': 1,\n",
       "         'intrato': 1,\n",
       "         'feriami': 1,\n",
       "         'Mongibello': 1,\n",
       "         'penetrando': 1,\n",
       "         'femmine': 1,\n",
       "         'volgianci': 1,\n",
       "         'sùe': 1,\n",
       "         'biasmo': 1,\n",
       "         'insegne': 1,\n",
       "         'purgazion': 1,\n",
       "         'ridire': 1,\n",
       "         'abate': 1,\n",
       "         'tremolerà': 1,\n",
       "         'raffi': 1,\n",
       "         'bozzacchioni': 1,\n",
       "         'dimando': 1,\n",
       "         'zanca': 1,\n",
       "         'tremando': 1,\n",
       "         'fossi': 1,\n",
       "         'Malebolge': 1,\n",
       "         'sbigottito': 1,\n",
       "         'quand': 1,\n",
       "         'maraviglio': 1,\n",
       "         'organar': 1,\n",
       "         'parenti': 1,\n",
       "         'parer': 1,\n",
       "         'cima': 1,\n",
       "         'ice': 1,\n",
       "         'Breve': 1,\n",
       "         'ambage': 1,\n",
       "         'matera': 1,\n",
       "         'ascoltarmi': 1,\n",
       "         'piacere': 1,\n",
       "         'dipartilla': 1,\n",
       "         'usato': 1,\n",
       "         'supplìco': 1,\n",
       "         'coperto': 1,\n",
       "         'Aventino': 1,\n",
       "         'sporte': 1,\n",
       "         'piato': 1,\n",
       "         'intoppo': 1,\n",
       "         'Fotin': 1,\n",
       "         'ferma': 1,\n",
       "         'temendo': 1,\n",
       "         'reverendi': 1,\n",
       "         'traditor': 1,\n",
       "         'solver': 1,\n",
       "         'sua': 1,\n",
       "         'ammoglia': 1,\n",
       "         'risolve': 1,\n",
       "         'apparecchia': 1,\n",
       "         'volo': 1,\n",
       "         'dice': 1,\n",
       "         'constare': 1,\n",
       "         'aiutarla': 1,\n",
       "         'Tacevansi': 1,\n",
       "         'lesa': 1,\n",
       "         'Bastavasi': 1,\n",
       "         'monche': 1,\n",
       "         'letane': 1,\n",
       "         'trecento': 1,\n",
       "         'riga': 1,\n",
       "         'pargoletta': 1,\n",
       "         'Da': 1,\n",
       "         'allenti': 1,\n",
       "         'saresti': 1,\n",
       "         'luci': 1,\n",
       "         'primizie': 1,\n",
       "         'odori': 1,\n",
       "         'splendesse': 1,\n",
       "         'fermai': 1,\n",
       "         'disvele': 1,\n",
       "         'acquisti': 1,\n",
       "         'Benedictus': 1,\n",
       "         'lavar': 1,\n",
       "         'fredda': 1,\n",
       "         'Anfiarao': 1,\n",
       "         'dispogliata': 1,\n",
       "         'purgarmi': 1,\n",
       "         'cristian': 1,\n",
       "         'per': 1,\n",
       "         'facemmo': 1,\n",
       "         'crin': 1,\n",
       "         'guardail': 1,\n",
       "         'chiede': 1,\n",
       "         'Modena': 1,\n",
       "         'liberato': 1,\n",
       "         'Questo': 1,\n",
       "         'serpente': 1,\n",
       "         'essenti': 1,\n",
       "         'beve': 1,\n",
       "         'benché': 1,\n",
       "         'pentuto': 1,\n",
       "         'riformossi': 1,\n",
       "         'colombo': 1,\n",
       "         'scalee': 1,\n",
       "         'imbianchi': 1,\n",
       "         'effige': 1,\n",
       "         'accostò': 1,\n",
       "         'pelle': 1,\n",
       "         'abbaiando': 1,\n",
       "         'Ciro': 1,\n",
       "         'stenderò': 1,\n",
       "         'dismisura': 1,\n",
       "         'cozzaro': 1,\n",
       "         'dipelato': 1,\n",
       "         'penda': 1,\n",
       "         'accoglienze': 1,\n",
       "         'arda': 1,\n",
       "         'abbui': 1,\n",
       "         'falsificato': 1,\n",
       "         'zanzara': 1,\n",
       "         'grembo': 1,\n",
       "         'avversi': 1,\n",
       "         'rispondendo': 1,\n",
       "         'ammorza': 1,\n",
       "         'Lacedemona': 1,\n",
       "         'riscosse': 1,\n",
       "         'scendesse': 1,\n",
       "         'severa': 1,\n",
       "         'partimmo': 1,\n",
       "         'volgere': 1,\n",
       "         'dicete': 1,\n",
       "         'splendori': 1,\n",
       "         'fruttare': 1,\n",
       "         'Dante': 1,\n",
       "         'secreto': 1,\n",
       "         'faceva': 1,\n",
       "         'meschite': 1,\n",
       "         'esser': 1,\n",
       "         'fastidiosi': 1,\n",
       "         'avvinghiai': 1,\n",
       "         'schiarato': 1,\n",
       "         'ardori': 1,\n",
       "         'sassi': 1,\n",
       "         'circuncidere': 1,\n",
       "         'ferita': 1,\n",
       "         'Navarrese': 1,\n",
       "         'lustro': 1,\n",
       "         'andammo': 1,\n",
       "         'refugio': 1,\n",
       "         'gonne': 1,\n",
       "         'stemmo': 1,\n",
       "         'stola': 1,\n",
       "         'Genesì': 1,\n",
       "         'storpio': 1,\n",
       "         'pali': 1,\n",
       "         'errore': 1,\n",
       "         'lasciò': 1,\n",
       "         'bagnava': 1,\n",
       "         'profetico': 1,\n",
       "         'fuggian': 1,\n",
       "         'ferute': 1,\n",
       "         'mareggiare': 1,\n",
       "         'nvitar': 1,\n",
       "         'podere': 1,\n",
       "         'pigliar': 1,\n",
       "         'Tan': 1,\n",
       "         'meritare': 1,\n",
       "         'mero': 1,\n",
       "         'Cardinale': 1,\n",
       "         'alzato': 1,\n",
       "         'Portogallo': 1,\n",
       "         'Fisica': 1,\n",
       "         ...})"
      ]
     },
     "execution_count": 106,
     "metadata": {},
     "output_type": "execute_result"
    }
   ],
   "source": [
    "Counter(words)"
   ]
  },
  {
   "cell_type": "code",
   "execution_count": null,
   "metadata": {
    "collapsed": true
   },
   "outputs": [],
   "source": []
  }
 ],
 "metadata": {
  "kernelspec": {
   "display_name": "Python 3",
   "language": "python",
   "name": "python3"
  },
  "language_info": {
   "codemirror_mode": {
    "name": "ipython",
    "version": 3
   },
   "file_extension": ".py",
   "mimetype": "text/x-python",
   "name": "python",
   "nbconvert_exporter": "python",
   "pygments_lexer": "ipython3",
   "version": "3.5.0"
  }
 },
 "nbformat": 4,
 "nbformat_minor": 0
}
