{
 "cells": [
  {
   "cell_type": "markdown",
   "metadata": {
    "slideshow": {
     "slide_type": "slide"
    }
   },
   "source": [
    "## Esercizio \n",
    "\n",
    "Scrivi una funzione `somma(x)` che ritorni la somma di tutti i numeri da `0` a `x`."
   ]
  },
  {
   "cell_type": "markdown",
   "metadata": {
    "slideshow": {
     "slide_type": "fragment"
    }
   },
   "source": [
    "### Soluzione\n",
    "\n",
    "Come possiamo fare, con i nostri strumenti?\n",
    "\n",
    "Possiamo esprimere la nostra funzione in termini di una sommatoria:\n",
    "\n",
    "`somma(x)` = $\\displaystyle\\sum_{i=1}^{x}i$\n",
    "Riusciamo a ricondurci a una forma *induttiva*? Proviamo:\n",
    "\n",
    "`somma(x)` = $\\displaystyle\\sum_{i=1}^{x}i$ = $\\displaystyle\\sum_{i=1}^{x-1}+x$ = `somma(x-1) + x`\n",
    "\n",
    "Quindi, abbiamo una forma che ci consente di ridurre il calcolo di `somma(x)` al calcolo di `somma(x-1)`... "
   ]
  },
  {
   "cell_type": "markdown",
   "metadata": {
    "slideshow": {
     "slide_type": "subslide"
    }
   },
   "source": [
    "&Egrave; come dire: se troviamo un'anima pia che calcoli `somma(x-1)` per noi, noi siamo in grado di calcolare `somma(x)`...\n",
    "\n",
    "Per induzione, se aggiungiamo che sappiamo calcolare `somma(0)`, allora il principio di induzione ci garantisce che sappiamo calcolare `somma` per tutte le $x \\in N$.\n",
    "\n",
    "Quindi la nostra definizione induttiva di `somma` è:\n",
    "\n",
    "$ \n",
    "somma(x)=\n",
    "    \\begin{cases}\n",
    "        somma(x-1) + x & \\quad \\text{se } x > 0\\\\\n",
    "        0 & \\quad \\text{se } x = 0\n",
    "     \\end{cases}\n",
    "$\n",
    "\n",
    "\n",
    "La traduzione in funzione Python, utilizzando solo un'espressione condizionale, è immediata:"
   ]
  },
  {
   "cell_type": "code",
   "execution_count": 30,
   "metadata": {
    "collapsed": true,
    "slideshow": {
     "slide_type": "subslide"
    }
   },
   "outputs": [],
   "source": [
    "def somma(x):\n",
    "    return 0 if x == 0 else x + somma(x-1)"
   ]
  },
  {
   "cell_type": "markdown",
   "metadata": {
    "slideshow": {
     "slide_type": "fragment"
    }
   },
   "source": [
    "Scriviamo una funzione di test per qualche valore:"
   ]
  },
  {
   "cell_type": "code",
   "execution_count": 31,
   "metadata": {
    "collapsed": true,
    "slideshow": {
     "slide_type": "fragment"
    }
   },
   "outputs": [],
   "source": [
    "def test_somma(f):\n",
    "    assert f(0) == 0\n",
    "    assert f(1) == 1\n",
    "    assert f(2) == 3\n",
    "    assert f(10) == 55\n",
    "    print(\"tutto ok\")"
   ]
  },
  {
   "cell_type": "markdown",
   "metadata": {
    "slideshow": {
     "slide_type": "fragment"
    }
   },
   "source": [
    "Testiamo:"
   ]
  },
  {
   "cell_type": "code",
   "execution_count": 32,
   "metadata": {
    "collapsed": false,
    "slideshow": {
     "slide_type": "fragment"
    }
   },
   "outputs": [
    {
     "name": "stdout",
     "output_type": "stream",
     "text": [
      "tutto ok\n"
     ]
    }
   ],
   "source": [
    "test_somma(somma)"
   ]
  },
  {
   "cell_type": "markdown",
   "metadata": {
    "slideshow": {
     "slide_type": "slide"
    }
   },
   "source": [
    "# Tuple"
   ]
  },
  {
   "cell_type": "markdown",
   "metadata": {
    "slideshow": {
     "slide_type": "slide"
    }
   },
   "source": [
    "## Esercizio\n",
    "\n",
    "Scrivere una funzione `intervallo(x)` che, dato `x`, ritorni la t-upla `(0, 1, ..., x)`"
   ]
  },
  {
   "cell_type": "markdown",
   "metadata": {
    "slideshow": {
     "slide_type": "subslide"
    }
   },
   "source": [
    "### Soluzione\n",
    "\n",
    "Proviamo anche qui un approccio ricorsivo.\n"
   ]
  },
  {
   "cell_type": "markdown",
   "metadata": {
    "slideshow": {
     "slide_type": "subslide"
    }
   },
   "source": [
    "Immaginiamo che qualcuno ci chieda di calcolare `intervallo(10)`. Se qualcuno calcolasse per noi `intervallo(9)`, noi sapremmo dare il tocco finale?"
   ]
  },
  {
   "cell_type": "markdown",
   "metadata": {
    "slideshow": {
     "slide_type": "fragment"
    }
   },
   "source": [
    "Pensiamoci: quanto vale `intervallo(9)`? Ma `(0, 1, 2, 3, 4, 5, 6, 7, 8, 9)`, naturalmente! Ebbene, se abbiamo il valore di `intervallo(9)`, come facciamo ad ottenere `intervallo(10)`?"
   ]
  },
  {
   "cell_type": "markdown",
   "metadata": {
    "slideshow": {
     "slide_type": "fragment"
    }
   },
   "source": [
    "Oltraggiosamente facile! \"Aggiungiamo\" il `10` in coda! \n",
    "\n",
    "Cosa che, nel linguaggio delle tuple, si ottiene concatenando `intervallo(9)` con la tupla che contiene solo `10`: `intervallo(9) + (10,)`."
   ]
  },
  {
   "cell_type": "markdown",
   "metadata": {
    "slideshow": {
     "slide_type": "fragment"
    }
   },
   "source": [
    "Generalizziamo:\n",
    "    \n",
    "`intervallo(x)` &rarr; `intervallo(x-1) + (x,)`\n",
    "\n",
    "Questo se, ovviamente, `x > 0`, (perché, tra l'altro, `intervallo(-1)` per noi non ha senso (o sì?!))"
   ]
  },
  {
   "cell_type": "markdown",
   "metadata": {
    "slideshow": {
     "slide_type": "fragment"
    }
   },
   "source": [
    "Inoltre, sappiamo bene qual è il valore di `intervallo(0)`: `(0,)`"
   ]
  },
  {
   "cell_type": "markdown",
   "metadata": {
    "slideshow": {
     "slide_type": "fragment"
    }
   },
   "source": [
    "Quindi, ci siamo ricondotti anche questa volta alla nostra forma generale ricorsiva!\n",
    "Traduciamo:"
   ]
  },
  {
   "cell_type": "code",
   "execution_count": 8,
   "metadata": {
    "collapsed": true,
    "slideshow": {
     "slide_type": "fragment"
    }
   },
   "outputs": [],
   "source": [
    "def intervallo(x):\n",
    "    return (0,) if x == 0 else intervallo(x-1) + (x,)"
   ]
  },
  {
   "cell_type": "code",
   "execution_count": 11,
   "metadata": {
    "collapsed": false,
    "slideshow": {
     "slide_type": "subslide"
    }
   },
   "outputs": [
    {
     "data": {
      "text/plain": [
       "(0, 1, 2, 3, 4, 5, 6, 7)"
      ]
     },
     "execution_count": 11,
     "metadata": {},
     "output_type": "execute_result"
    }
   ],
   "source": [
    "intervallo(7)"
   ]
  },
  {
   "cell_type": "markdown",
   "metadata": {
    "slideshow": {
     "slide_type": "slide"
    }
   },
   "source": [
    "## Esercizio\n",
    "\n",
    "Scrivere una funzione `st` (Somma Tupla) che, ricevuta una tupla di numeri, ritorni la loro somma.\n",
    "\n",
    "Es:\n",
    "    `st((1,2,3)) == 6`"
   ]
  },
  {
   "cell_type": "markdown",
   "metadata": {
    "slideshow": {
     "slide_type": "subslide"
    }
   },
   "source": [
    "### Soluzione\n",
    "\n",
    "&Egrave; possibile risolvere ricorsivamente anche questo problema? La risposta è **sì**. Inoltre, un'ossservazione: la risposta è **sempre** sì: se qualcosa non si può fare in forma ricorsiva, non la si può fare e basta!\n",
    "\n",
    "Ma qui qual è l'equivalente di `x-1`? Cosa vuol dire *ridurre* il problema ad uno più semplice?"
   ]
  },
  {
   "cell_type": "markdown",
   "metadata": {
    "slideshow": {
     "slide_type": "fragment"
    }
   },
   "source": [
    "Partiamo chiedendoci: qual è il caso più semplice di parametro che possa essere passato a `st`?"
   ]
  },
  {
   "cell_type": "markdown",
   "metadata": {
    "slideshow": {
     "slide_type": "fragment"
    }
   },
   "source": [
    "Ma la tupla vuota, ovviamente: `()`\n",
    "In questo caso, `st` vale `0`: `st(()) == 0`.\n"
   ]
  },
  {
   "cell_type": "markdown",
   "metadata": {
    "slideshow": {
     "slide_type": "fragment"
    }
   },
   "source": [
    "Ok, quindi \"semplificare\" il problema vuol dire \"spingerlo\" verso la tupla vuota. Un modo per scomporlo può passare attraverso i concetti di *testa* e *coda* di una t-upla:\n",
    "\n",
    "- la *testa* (*head*) di una t-upla è il primo elemento della t-upla\n",
    "- la *coda* (*tail*) di una t-upla `l` è una t-upla formata dagli elementi di `l`, tolto il primo\n",
    "\n",
    "In Python, per ottenere la testa di una tupla `l` la si ottiene valutando `l[0]`, mentre la coda valutando `l[1:]`\n",
    "\n",
    "(In alcuni linguaggi, soprattutto quelli derivati dal potente e glorioso [Lisp]( https://en.wikipedia.org/wiki/Lisp_(programming_language) ), le funzioni che, data una sequenza, ritornano la testa e la coda, si chiamano `car` e `cdr`, per motivi che saranno chiari più avanti)"
   ]
  },
  {
   "cell_type": "markdown",
   "metadata": {
    "slideshow": {
     "slide_type": "subslide"
    }
   },
   "source": [
    "Forti di questi nuovi concetti, chiediamoci: se qualcuno ci calcola `st` per la coda di una lista `l`, siamo in grado di calcolare `st(l)`?\n",
    "\n",
    "Cioè: se qualcuno ci calcola `st((2,3,4))`, noi siamo in grado di calcolare `st((1,2,3,4))`?\n",
    "\n",
    "Ma certo! `st((1,2,3,4)) == 1 + st((2,3,4))`\n",
    "\n",
    "Sappiamo tradurlo in termini di *teste* (`l[0]`) e *code* (`l[1:]`)? Un modo può essere questo:"
   ]
  },
  {
   "cell_type": "markdown",
   "metadata": {
    "slideshow": {
     "slide_type": "fragment"
    }
   },
   "source": [
    "`st(l) == l[0] + st(l[0:])`"
   ]
  },
  {
   "cell_type": "markdown",
   "metadata": {
    "slideshow": {
     "slide_type": "fragment"
    }
   },
   "source": [
    "Quesa equazione vale soltanto se la tupla passata non è vuota (cos'è la testa di una lista vuota?)\n",
    "In quel caso (`l == ()`), quando vale `st`? \n",
    "\n",
    "Ma `0`, *claro*!\n",
    "\n",
    "Quindi, come possiamo tradurre in una funzion Python, usando la nostra solita struttura (che, nota lessicale tecnica: si chiama *tail recursive*)?"
   ]
  },
  {
   "cell_type": "code",
   "execution_count": 23,
   "metadata": {
    "collapsed": true,
    "slideshow": {
     "slide_type": "fragment"
    }
   },
   "outputs": [],
   "source": [
    "def st(t):\n",
    "    return 0 if t == () else t[0] + st(t[1:])"
   ]
  },
  {
   "cell_type": "markdown",
   "metadata": {
    "slideshow": {
     "slide_type": "fragment"
    }
   },
   "source": [
    "Proviamo:"
   ]
  },
  {
   "cell_type": "code",
   "execution_count": 25,
   "metadata": {
    "collapsed": false,
    "slideshow": {
     "slide_type": "fragment"
    }
   },
   "outputs": [
    {
     "data": {
      "text/plain": [
       "6"
      ]
     },
     "execution_count": 25,
     "metadata": {},
     "output_type": "execute_result"
    }
   ],
   "source": [
    "st((1,2,3))"
   ]
  },
  {
   "cell_type": "markdown",
   "metadata": {
    "slideshow": {
     "slide_type": "subslide"
    }
   },
   "source": [
    "\n",
    "Nota: `intervallo` e `st` ci consentono di implementare una soluzione alternativa a `somma`: per sommare tutti i numeri fino a `x`, possiamo generare la t-upla `(0, 1, ..., x)` e poi sommare tutti i suoi elementi:"
   ]
  },
  {
   "cell_type": "code",
   "execution_count": 33,
   "metadata": {
    "collapsed": true,
    "slideshow": {
     "slide_type": "fragment"
    }
   },
   "outputs": [],
   "source": [
    "def somma2(x):\n",
    "    return st(intervallo(x))"
   ]
  },
  {
   "cell_type": "code",
   "execution_count": 34,
   "metadata": {
    "collapsed": false,
    "slideshow": {
     "slide_type": "fragment"
    }
   },
   "outputs": [
    {
     "name": "stdout",
     "output_type": "stream",
     "text": [
      "tutto ok\n"
     ]
    }
   ],
   "source": [
    "test_somma(somma2)"
   ]
  }
 ],
 "metadata": {
  "celltoolbar": "Slideshow",
  "kernelspec": {
   "display_name": "Python 2",
   "language": "python",
   "name": "python2"
  },
  "language_info": {
   "codemirror_mode": {
    "name": "ipython",
    "version": 2
   },
   "file_extension": ".py",
   "mimetype": "text/x-python",
   "name": "python",
   "nbconvert_exporter": "python",
   "pygments_lexer": "ipython2",
   "version": "2.7.6"
  }
 },
 "nbformat": 4,
 "nbformat_minor": 0
}
